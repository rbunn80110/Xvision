{
 "cells": [
  {
   "cell_type": "markdown",
   "metadata": {
    "collapsed": true
   },
   "source": [
    "\n",
    "### Loading datas.json"
   ]
  },
  {
   "cell_type": "code",
   "execution_count": 2,
   "metadata": {},
   "outputs": [
    {
     "name": "stdout",
     "output_type": "stream",
     "text": [
      "7469\n"
     ]
    }
   ],
   "source": [
    "import json\n",
    "from pprint import pprint\n",
    "\n",
    "dic = {}\n",
    "with open('datas.json') as data_file:\n",
    "    data = json.load(data_file)\n",
    "    lst = []\n",
    "    n=0\n",
    "    print(len(data))\n",
    "    for  i in data:\n",
    "        # print i\n",
    "        dic[i] = \"/\".join(data[i]['items'])\n",
    "\n",
    "        \n"
   ]
  },
  {
   "cell_type": "markdown",
   "metadata": {},
   "source": [
    "### Labeling the data and forming a dictionary"
   ]
  },
  {
   "cell_type": "code",
   "execution_count": 4,
   "metadata": {},
   "outputs": [],
   "source": [
    "c=0\n",
    "st=\"\"\n",
    "new_dict={}\n",
    "check = [\"normal\",\"opacity\", \"cardiomegaly\",\"calcinosis\", \"lung/hypoinflation\",\"calcified granuloma\",\"thoracic vertebrae/degenerative\", \"lung/hyperdistention\", \"spine/degenerative \",\"catheters, indwelling\", \"granulomatous disease\", \"nodule\",\"surgical instruments\",\"scoliosis\", \"spondylosis\"]\n",
    "for j in dic:\n",
    "#     print dic[j]\n",
    "    #     st = st + j\n",
    "    for i in check:\n",
    "\n",
    "        if i in dic[j].lower():\n",
    "            st+=i\n",
    "#             if i==\"nodule\":\n",
    "#                 st=\"nodule\"\n",
    "#                 break\n",
    "        \n",
    "    if st == \"\":\n",
    "        st += \"missing\"\n",
    "    new_dict[j] = st\n",
    "    \n",
    "    st=\"\"\n",
    "    \n",
    "#     if \"opacity\" in dic[j].lower():\n",
    "#         print dic[j].lower()\n",
    "#         c+=1\n",
    "# print c\n",
    "# print new_dict"
   ]
  },
  {
   "cell_type": "markdown",
   "metadata": {},
   "source": [
    "### Calculate unique combinations of above diseases"
   ]
  },
  {
   "cell_type": "code",
   "execution_count": 13,
   "metadata": {
    "scrolled": true
   },
   "outputs": [
    {
     "name": "stdout",
     "output_type": "stream",
     "text": [
      "187\n"
     ]
    }
   ],
   "source": [
    "from collections import Counter\n",
    "c = Counter( (new_dict.values()) )\n",
    "\n",
    "# print c.items()\n",
    "c.most_common()\n",
    "c = dict(c)\n",
    "print(len(c))"
   ]
  },
  {
   "cell_type": "markdown",
   "metadata": {},
   "source": [
    "### The dictionary is sorted according to number of cases in each disease."
   ]
  },
  {
   "cell_type": "code",
   "execution_count": 14,
   "metadata": {},
   "outputs": [],
   "source": [
    "from operator import itemgetter\n",
    "sort = sorted(c.items(), key=itemgetter(1))\n",
    "# print sort[-40:]\n",
    "# print sort"
   ]
  },
  {
   "cell_type": "code",
   "execution_count": 20,
   "metadata": {},
   "outputs": [
    {
     "name": "stdout",
     "output_type": "stream",
     "text": [
      "[('cardiomegalycalcinosis', 37), ('calcinosiscalcified granuloma', 46), ('granulomatous disease', 58), ('cardiomegalylung/hypoinflation', 60), ('nodule', 69), ('spondylosis', 72), ('opacitylung/hypoinflation', 72), ('surgical instruments', 86), ('opacitycardiomegaly', 94), ('scoliosis', 102), ('catheters, indwelling', 112), ('calcinosis', 166), ('lung/hyperdistention', 210), ('thoracic vertebrae/degenerative', 238), ('lung/hypoinflation', 249), ('calcified granuloma', 263), ('cardiomegaly', 271), ('opacity', 374), ('normal', 2697)]\n"
     ]
    }
   ],
   "source": [
    "labels = sorted([i for i in sort[-20:] if i[0]!=\"missing\"], key=lambda x: x[1])\n",
    "print(labels)"
   ]
  },
  {
   "cell_type": "markdown",
   "metadata": {},
   "source": [
    "### Dictionary with list of indexes of every disease."
   ]
  },
  {
   "cell_type": "code",
   "execution_count": 18,
   "metadata": {},
   "outputs": [],
   "source": [
    "from collections import defaultdict\n",
    "\n",
    "index_list = defaultdict(list)\n",
    "\n",
    "for key, value in new_dict.items():\n",
    "    index_list[value].append(key)\n"
   ]
  },
  {
   "cell_type": "markdown",
   "metadata": {},
   "source": [
    "### Training and testing dictionary are made with label required."
   ]
  },
  {
   "cell_type": "code",
   "execution_count": 22,
   "metadata": {},
   "outputs": [],
   "source": [
    "\n",
    "train_images_dict = {}\n",
    "test_images_dict={}\n",
    "for  i in index_list:\n",
    "#     print i\n",
    "    if i== \"normal\":\n",
    "        train_images_dict[\"normal\"]=index_list[i][400:500]\n",
    "        test_images_dict[\"normal\"] = index_list[i][500:550]\n",
    "#     elif i==\"opacity\":\n",
    "#         train_images_dict[\"abnormal\"]=index_list[i][:354]\n",
    "#         test_images_dict[\"abnormal\"] = index_list[i][354:374]\n",
    "#     elif i==\"cardiomegaly\":\n",
    "#         train_images_dict[\"abnormal\"]=index_list[i][:251]\n",
    "#         test_images_dict[\"abnormal\"] = index_list[i][251:266]\n",
    "#     elif i==\"lung/hypoinflation\":\n",
    "#         train_images_dict[\"abnormal\"]=index_list[i][:229]\n",
    "#         test_images_dict[\"abnormal\"] = index_list[i][229:249]\n",
    "#     elif i==\"calcified granuloma\":\n",
    "#         train_images_dict[\"abnormal\"]+=index_list[i][:243]\n",
    "#         test_images_dict[\"abnormal\"] += index_list[i][243:263]\n",
    "#     elif i==\"thoracic vertebrae/degenerative\":\n",
    "#         train_images_dict[\"abnormal\"]+=index_list[i][:218]\n",
    "#         test_images_dict[\"abnormal\"] += index_list[i][218:238]\n",
    "#     elif i==\"lung/hyperdistention\":\n",
    "#         train_images_dict[\"abnormal\"]+=index_list[i][:190]\n",
    "#         test_images_dict[\"abnormal\"] += index_list[i][190:210]\n",
    "#     elif i==\"surgical instruments\":\n",
    "#         train_images_dict[\"abnormal\"]+=index_list[i][:71]\n",
    "#         test_images_dict[\"abnormal\"] += index_list[i][71:86]\n",
    "#     elif i==\"catheters, indwelling\":\n",
    "#         train_images_dict[\"abnormal\"]+=index_list[i][:100]\n",
    "#         test_images_dict[\"abnormal\"] += index_list[i][100:112] \n",
    "#     elif i==\"calcinosis\":\n",
    "#         train_images_dict[\"abnormal\"]+=index_list[i][:146]\n",
    "#         test_images_dict[\"abnormal\"] += index_list[i][146:166] \n",
    "    \n",
    "    elif i==\"nodule\" :\n",
    "        train_images_dict[i]=index_list[i][:54]\n",
    "        test_images_dict[i] = index_list[i][49:]\n",
    "    elif i==\"calcinosisnodule\":\n",
    "        train_images_dict[\"nodule\"]=index_list[i][:23]\n",
    "        test_images_dict[\"nodule\"] = index_list[i][23:]\n",
    "    "
   ]
  },
  {
   "cell_type": "code",
   "execution_count": 23,
   "metadata": {},
   "outputs": [
    {
     "data": {
      "text/plain": [
       "50"
      ]
     },
     "execution_count": 23,
     "metadata": {},
     "output_type": "execute_result"
    }
   ],
   "source": [
    "len(test_images_dict[\"normal\"])"
   ]
  },
  {
   "cell_type": "markdown",
   "metadata": {},
   "source": [
    "### Encoding the classes"
   ]
  },
  {
   "cell_type": "code",
   "execution_count": 24,
   "metadata": {},
   "outputs": [
    {
     "name": "stdout",
     "output_type": "stream",
     "text": [
      "{'normal': 0, 'nodule': 1}\n"
     ]
    }
   ],
   "source": [
    "# c=0\n",
    "# label_dict = {}\n",
    "# for i in labels[-1::-1]:\n",
    "# #     print i[0]\n",
    "#     label_dict[i[0]] = c\n",
    "#     c+=1\n",
    "label_dict = {\"normal\":0,\"nodule\":1}\n",
    "print(label_dict)"
   ]
  },
  {
   "cell_type": "code",
   "execution_count": 25,
   "metadata": {},
   "outputs": [
    {
     "name": "stdout",
     "output_type": "stream",
     "text": [
      "{'normal': array([ 1.,  0.]), 'nodule': array([ 0.,  1.])}\n"
     ]
    }
   ],
   "source": [
    "import numpy as np\n",
    "label_index={}\n",
    "for i in label_dict:\n",
    "    a = np.zeros(2)\n",
    "    a[label_dict[i]]=1\n",
    "    label_index[i] = a\n",
    "print(label_index)\n"
   ]
  },
  {
   "cell_type": "code",
   "execution_count": 26,
   "metadata": {},
   "outputs": [
    {
     "name": "stdout",
     "output_type": "stream",
     "text": [
      "normal\n",
      "[ 1.  0.]\n",
      "nodule\n",
      "[ 0.  1.]\n"
     ]
    }
   ],
   "source": [
    "for i in label_index:\n",
    "    print(i)\n",
    "    print(label_index[i])"
   ]
  },
  {
   "cell_type": "code",
   "execution_count": 27,
   "metadata": {
    "collapsed": true
   },
   "outputs": [],
   "source": [
    "new_image_dict={}\n",
    "for i in new_dict:\n",
    "    if new_dict[i] in label_index.keys():\n",
    "        new_image_dict[i] = label_index[new_dict[i]]"
   ]
  },
  {
   "cell_type": "code",
   "execution_count": 28,
   "metadata": {
    "collapsed": true
   },
   "outputs": [],
   "source": [
    "new_image_dict={}\n",
    "for i in new_dict:\n",
    "    if new_dict[i] ==\"normal\":\n",
    "        new_image_dict[i] = np.array([1,0])\n",
    "    else:\n",
    "        new_image_dict[i] = np.array([0,1])"
   ]
  },
  {
   "cell_type": "code",
   "execution_count": 29,
   "metadata": {},
   "outputs": [
    {
     "name": "stdout",
     "output_type": "stream",
     "text": [
      "7469\n"
     ]
    }
   ],
   "source": [
    "print(len(new_image_dict))"
   ]
  },
  {
   "cell_type": "code",
   "execution_count": 30,
   "metadata": {},
   "outputs": [],
   "source": [
    "import shutil,os\n",
    "os.chdir('/media/robert/DeepLearning/PycharmProjects/Xvision/scraper/xrays')"
   ]
  },
  {
   "cell_type": "code",
   "execution_count": 31,
   "metadata": {},
   "outputs": [
    {
     "name": "stdout",
     "output_type": "stream",
     "text": [
      "154\n"
     ]
    }
   ],
   "source": [
    "#trainign image list\n",
    "train_list=[]\n",
    "test_list=[]\n",
    "for  i in train_images_dict:\n",
    "    train_list +=train_images_dict[i]\n",
    "for  i in test_images_dict:\n",
    "    test_list +=test_images_dict[i]\n",
    "print(len(train_list))"
   ]
  },
  {
   "cell_type": "code",
   "execution_count": 32,
   "metadata": {},
   "outputs": [],
   "source": [
    "from random import shuffle\n",
    "\n",
    "shuffle(train_list)\n",
    "shuffle(test_list)\n",
    "\n",
    "# for  i in train_list:\n",
    "#     print new_dict[i]\n",
    "# for i in train_list:\n",
    "#     print new_dict[i]"
   ]
  },
  {
   "cell_type": "code",
   "execution_count": 33,
   "metadata": {},
   "outputs": [
    {
     "data": {
      "text/plain": [
       "70"
      ]
     },
     "execution_count": 33,
     "metadata": {},
     "output_type": "execute_result"
    }
   ],
   "source": [
    "len(test_list)"
   ]
  },
  {
   "cell_type": "markdown",
   "metadata": {},
   "source": [
    "### Folder with all training images is formed."
   ]
  },
  {
   "cell_type": "code",
   "execution_count": 37,
   "metadata": {},
   "outputs": [],
   "source": [
    "#copy training data\n",
    "c=0\n",
    "train_label={}\n",
    "\n",
    "os.mkdir(\"/media/robert/DeepLearning/PycharmProjects/Xvision/scraper/final_train_images_calc_nodule_only\")\n",
    "for i in train_list:\n",
    "#     print i\n",
    "    \n",
    "    shutil.copy('/media/robert/DeepLearning/PycharmProjects/Xvision/scraper/xrays/'+i+'.png', '/media/robert/DeepLearning/PycharmProjects/Xvision/scraper/final_train_images_calc_nodule_only/'+str(c)+'.png')\n",
    "    train_label[c] = new_image_dict[i]\n",
    "    c+=1"
   ]
  },
  {
   "cell_type": "code",
   "execution_count": 39,
   "metadata": {},
   "outputs": [
    {
     "name": "stdout",
     "output_type": "stream",
     "text": [
      "154\n"
     ]
    }
   ],
   "source": [
    "print(len(train_label))"
   ]
  },
  {
   "cell_type": "markdown",
   "metadata": {},
   "source": [
    "### Folder with all testing images in made\n",
    "\n"
   ]
  },
  {
   "cell_type": "code",
   "execution_count": 40,
   "metadata": {},
   "outputs": [],
   "source": [
    "#copy teasting data\n",
    "c=0\n",
    "test_label={}\n",
    "os.mkdir(\"/media/robert/DeepLearning/PycharmProjects/Xvision/scraper/final_test_images_calc_nodule_only\")\n",
    "for i in test_list:\n",
    "    shutil.copy('/media/robert/DeepLearning/PycharmProjects/Xvision/scraper/xrays/'+i+'.png', '/media/robert/DeepLearning/PycharmProjects/Xvision/scraper/final_test_images_calc_nodule_only/'+str(c)+'.png')\n",
    "    test_label[c] = new_image_dict[i]\n",
    "    c+=1"
   ]
  },
  {
   "cell_type": "markdown",
   "metadata": {
    "collapsed": true
   },
   "source": [
    "### All the training and testing labels are stored as Pickled files."
   ]
  },
  {
   "cell_type": "code",
   "execution_count": 44,
   "metadata": {},
   "outputs": [
    {
     "data": {
      "text/plain": [
       "dict_values([array([0, 1]), array([1, 0]), array([1, 0]), array([0, 1]), array([0, 1]), array([1, 0]), array([0, 1]), array([1, 0]), array([0, 1]), array([1, 0]), array([0, 1]), array([1, 0]), array([1, 0]), array([0, 1]), array([1, 0]), array([0, 1]), array([0, 1]), array([0, 1]), array([1, 0]), array([0, 1]), array([1, 0]), array([0, 1]), array([0, 1]), array([1, 0]), array([1, 0]), array([1, 0]), array([1, 0]), array([1, 0]), array([1, 0]), array([1, 0]), array([1, 0]), array([1, 0]), array([1, 0]), array([1, 0]), array([1, 0]), array([1, 0]), array([1, 0]), array([0, 1]), array([1, 0]), array([1, 0]), array([1, 0]), array([1, 0]), array([1, 0]), array([1, 0]), array([1, 0]), array([1, 0]), array([0, 1]), array([0, 1]), array([0, 1]), array([1, 0]), array([1, 0]), array([1, 0]), array([1, 0]), array([1, 0]), array([0, 1]), array([0, 1]), array([1, 0]), array([1, 0]), array([0, 1]), array([0, 1]), array([1, 0]), array([1, 0]), array([1, 0]), array([1, 0]), array([1, 0]), array([0, 1]), array([0, 1]), array([1, 0]), array([1, 0]), array([0, 1]), array([1, 0]), array([1, 0]), array([0, 1]), array([1, 0]), array([1, 0]), array([0, 1]), array([1, 0]), array([0, 1]), array([0, 1]), array([0, 1]), array([0, 1]), array([1, 0]), array([1, 0]), array([1, 0]), array([0, 1]), array([0, 1]), array([0, 1]), array([0, 1]), array([1, 0]), array([1, 0]), array([0, 1]), array([1, 0]), array([0, 1]), array([1, 0]), array([0, 1]), array([1, 0]), array([1, 0]), array([1, 0]), array([1, 0]), array([1, 0]), array([0, 1]), array([1, 0]), array([1, 0]), array([0, 1]), array([1, 0]), array([1, 0]), array([0, 1]), array([1, 0]), array([1, 0]), array([1, 0]), array([1, 0]), array([1, 0]), array([1, 0]), array([1, 0]), array([1, 0]), array([1, 0]), array([1, 0]), array([1, 0]), array([0, 1]), array([1, 0]), array([1, 0]), array([0, 1]), array([0, 1]), array([0, 1]), array([1, 0]), array([1, 0]), array([1, 0]), array([1, 0]), array([0, 1]), array([1, 0]), array([1, 0]), array([1, 0]), array([1, 0]), array([0, 1]), array([0, 1]), array([0, 1]), array([0, 1]), array([1, 0]), array([1, 0]), array([1, 0]), array([1, 0]), array([0, 1]), array([0, 1]), array([1, 0]), array([0, 1]), array([0, 1]), array([0, 1]), array([1, 0]), array([1, 0]), array([1, 0]), array([1, 0]), array([1, 0]), array([1, 0]), array([1, 0])])"
      ]
     },
     "execution_count": 44,
     "metadata": {},
     "output_type": "execute_result"
    }
   ],
   "source": [
    "import pickle\n",
    "import numpy as np\n",
    "filename = \"/media/robert/DeepLearning/PycharmProjects/Xvision/scraper/training_labels_calc_nodule_only\"\n",
    "# filename = \"testing_labels_calc_nodule_only\"\n",
    "train_label.values()\n",
    "# fileObject = open(filename,'wb') \n",
    "# pickle.dump(np.array(train_label.values()),fileObject)\n",
    "# fileObject.close()"
   ]
  },
  {
   "cell_type": "code",
   "execution_count": null,
   "metadata": {
    "collapsed": true
   },
   "outputs": [],
   "source": []
  },
  {
   "cell_type": "code",
   "execution_count": null,
   "metadata": {
    "collapsed": true
   },
   "outputs": [],
   "source": []
  }
 ],
 "metadata": {
  "kernelspec": {
   "display_name": "Python [conda env:tensorflow_env]",
   "language": "python",
   "name": "conda-env-tensorflow_env-py"
  },
  "language_info": {
   "codemirror_mode": {
    "name": "ipython",
    "version": 3
   },
   "file_extension": ".py",
   "mimetype": "text/x-python",
   "name": "python",
   "nbconvert_exporter": "python",
   "pygments_lexer": "ipython3",
   "version": "3.5.3"
  }
 },
 "nbformat": 4,
 "nbformat_minor": 1
}
